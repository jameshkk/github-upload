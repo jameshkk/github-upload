{
 "cells": [
  {
   "cell_type": "markdown",
   "metadata": {},
   "source": [
    "# CEO Salary and Return Equity"
   ]
  },
  {
   "cell_type": "code",
   "execution_count": 36,
   "metadata": {},
   "outputs": [],
   "source": [
    "import numpy as np\n",
    "\n",
    "import matplotlib.pyplot as plt\n",
    "\n",
    "import statsmodels.formula.api as smf\n",
    "import statsmodels.api as sm\n",
    "\n",
    "import wooldridge as woo"
   ]
  },
  {
   "cell_type": "code",
   "execution_count": 5,
   "metadata": {},
   "outputs": [],
   "source": [
    "df = woo.dataWoo('ceosal1')"
   ]
  },
  {
   "cell_type": "code",
   "execution_count": 11,
   "metadata": {},
   "outputs": [],
   "source": [
    "# OLS regression\n",
    "reg = smf.ols(formula = 'salary ~ roe', data = df)\n",
    "\n",
    "results = reg.fit()"
   ]
  },
  {
   "cell_type": "code",
   "execution_count": 20,
   "metadata": {
    "scrolled": true
   },
   "outputs": [
    {
     "name": "stdout",
     "output_type": "stream",
     "text": [
      "                            OLS Regression Results                            \n",
      "==============================================================================\n",
      "Dep. Variable:                 salary   R-squared:                       0.013\n",
      "Model:                            OLS   Adj. R-squared:                  0.008\n",
      "Method:                 Least Squares   F-statistic:                     2.767\n",
      "Date:                Tue, 06 Apr 2021   Prob (F-statistic):             0.0978\n",
      "Time:                        16:49:25   Log-Likelihood:                -1804.5\n",
      "No. Observations:                 209   AIC:                             3613.\n",
      "Df Residuals:                     207   BIC:                             3620.\n",
      "Df Model:                           1                                         \n",
      "Covariance Type:            nonrobust                                         \n",
      "==============================================================================\n",
      "                 coef    std err          t      P>|t|      [0.025      0.975]\n",
      "------------------------------------------------------------------------------\n",
      "Intercept    963.1913    213.240      4.517      0.000     542.790    1383.592\n",
      "roe           18.5012     11.123      1.663      0.098      -3.428      40.431\n",
      "==============================================================================\n",
      "Omnibus:                      311.096   Durbin-Watson:                   2.105\n",
      "Prob(Omnibus):                  0.000   Jarque-Bera (JB):            31120.902\n",
      "Skew:                           6.915   Prob(JB):                         0.00\n",
      "Kurtosis:                      61.158   Cond. No.                         43.3\n",
      "==============================================================================\n",
      "\n",
      "Notes:\n",
      "[1] Standard Errors assume that the covariance matrix of the errors is correctly specified.\n"
     ]
    }
   ],
   "source": [
    "# results: table\n",
    "print(results.summary())"
   ]
  },
  {
   "cell_type": "code",
   "execution_count": 43,
   "metadata": {},
   "outputs": [],
   "source": [
    "# OLS regression: using 'statsmodels.api'"
   ]
  },
  {
   "cell_type": "code",
   "execution_count": 21,
   "metadata": {},
   "outputs": [],
   "source": [
    "y = df['salary']\n",
    "\n",
    "X = df['roe']\n",
    "\n",
    "X = sm.add_constant(X)\n",
    "\n",
    "reg2 = sm.OLS(y, X)"
   ]
  },
  {
   "cell_type": "code",
   "execution_count": 41,
   "metadata": {},
   "outputs": [],
   "source": [
    "results2 = reg2.fit()"
   ]
  },
  {
   "cell_type": "code",
   "execution_count": 42,
   "metadata": {},
   "outputs": [
    {
     "name": "stdout",
     "output_type": "stream",
     "text": [
      "                            OLS Regression Results                            \n",
      "==============================================================================\n",
      "Dep. Variable:                 salary   R-squared:                       0.013\n",
      "Model:                            OLS   Adj. R-squared:                  0.008\n",
      "Method:                 Least Squares   F-statistic:                     2.767\n",
      "Date:                Tue, 06 Apr 2021   Prob (F-statistic):             0.0978\n",
      "Time:                        16:57:22   Log-Likelihood:                -1804.5\n",
      "No. Observations:                 209   AIC:                             3613.\n",
      "Df Residuals:                     207   BIC:                             3620.\n",
      "Df Model:                           1                                         \n",
      "Covariance Type:            nonrobust                                         \n",
      "==============================================================================\n",
      "                 coef    std err          t      P>|t|      [0.025      0.975]\n",
      "------------------------------------------------------------------------------\n",
      "const        963.1913    213.240      4.517      0.000     542.790    1383.592\n",
      "roe           18.5012     11.123      1.663      0.098      -3.428      40.431\n",
      "==============================================================================\n",
      "Omnibus:                      311.096   Durbin-Watson:                   2.105\n",
      "Prob(Omnibus):                  0.000   Jarque-Bera (JB):            31120.902\n",
      "Skew:                           6.915   Prob(JB):                         0.00\n",
      "Kurtosis:                      61.158   Cond. No.                         43.3\n",
      "==============================================================================\n",
      "\n",
      "Notes:\n",
      "[1] Standard Errors assume that the covariance matrix of the errors is correctly specified.\n"
     ]
    }
   ],
   "source": [
    "print(results2.summary())"
   ]
  },
  {
   "cell_type": "code",
   "execution_count": null,
   "metadata": {},
   "outputs": [],
   "source": []
  }
 ],
 "metadata": {
  "kernelspec": {
   "display_name": "Python [conda env:.conda-main] *",
   "language": "python",
   "name": "conda-env-.conda-main-py"
  },
  "language_info": {
   "codemirror_mode": {
    "name": "ipython",
    "version": 3
   },
   "file_extension": ".py",
   "mimetype": "text/x-python",
   "name": "python",
   "nbconvert_exporter": "python",
   "pygments_lexer": "ipython3",
   "version": "3.8.5"
  }
 },
 "nbformat": 4,
 "nbformat_minor": 4
}
